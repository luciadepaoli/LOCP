{
 "cells": [
  {
   "cell_type": "markdown",
   "metadata": {},
   "source": [
    "1\\. Write a function that converts number representation (bin<->dec<->hex)"
   ]
  },
  {
   "cell_type": "code",
   "execution_count": 1,
   "metadata": {},
   "outputs": [
    {
     "name": "stdout",
     "output_type": "stream",
     "text": [
      "5\n",
      "bin: 0b101 dec:  5 hex:  0x5\n"
     ]
    },
    {
     "data": {
      "text/plain": [
       "5"
      ]
     },
     "execution_count": 1,
     "metadata": {},
     "output_type": "execute_result"
    }
   ],
   "source": [
    "def conversion(x):\n",
    "    x_bin=bin(x)\n",
    "    x_dec=int(x)\n",
    "    x_hex=hex(x)\n",
    "    print(\"bin:\",x_bin,\"dec: \",x_dec, \"hex: \",x_hex)\n",
    "    return x\n",
    "\n",
    "conversion(int(input()))"
   ]
  },
  {
   "cell_type": "markdown",
   "metadata": {},
   "source": [
    "2\\. Write a function that converts a 32 bit word into a single precision floating point (i.e. interprets the various bits as sign, mantissa and exponent)"
   ]
  },
  {
   "cell_type": "code",
   "execution_count": 34,
   "metadata": {},
   "outputs": [
    {
     "name": "stdout",
     "output_type": "stream",
     "text": [
      "32\n"
     ]
    },
    {
     "data": {
      "text/plain": [
       "1.4500000476837158"
      ]
     },
     "execution_count": 34,
     "metadata": {},
     "output_type": "execute_result"
    }
   ],
   "source": [
    "import math\n",
    "bias=127\n",
    "\n",
    "def single_precision(x):\n",
    "    print(len(x))\n",
    "    mat=x[9:32]\n",
    "    \n",
    "    mantissa=1\n",
    "    for i in range(0,23):\n",
    "        mantissa+=int(mat[i])*pow(2,-i-1)\n",
    "        \n",
    " #   exp=int(x[1:9],2)\n",
    "    e=x[1:9]\n",
    "    exp=0\n",
    "    for i in range(0,8):\n",
    "        exp+=int(e[i])*pow(2,7-i)\n",
    "    \n",
    "    return pow(-1,int(x[0]))*mantissa*pow(2,exp-bias)\n",
    "\n",
    "single_precision('00111111101110011001100110011010')"
   ]
  },
  {
   "cell_type": "markdown",
   "metadata": {},
   "source": [
    "3\\. Write a program to determine the underflow and overflow limits (within a factor of 2) for python on your computer. \n",
    "\n",
    "**Tips**: define two variables inizialized to 1 and halve/double them enough time to exceed the under/over-flow limits  "
   ]
  },
  {
   "cell_type": "code",
   "execution_count": 5,
   "metadata": {},
   "outputs": [
    {
     "data": {
      "text/plain": [
       "(8.98846567431158e+307, 5e-324)"
      ]
     },
     "execution_count": 5,
     "metadata": {},
     "output_type": "execute_result"
    }
   ],
   "source": [
    "import math\n",
    "#import sys.float_info\n",
    "\n",
    "def limits():\n",
    "    a=1.\n",
    "    prev_a=1.\n",
    "    b=1.\n",
    "    prev_b=1.\n",
    "    \n",
    "    while a!=float(\"inf\"):\n",
    "        prev_a=a\n",
    "        a*=2\n",
    "        \n",
    "    while b!=0:\n",
    "        prev_b=b\n",
    "        b/=2\n",
    "        \n",
    "    return prev_a,prev_b\n",
    "\n",
    "limits()"
   ]
  },
  {
   "cell_type": "markdown",
   "metadata": {},
   "source": [
    "4\\. Write a program to determine the machine precision\n",
    "\n",
    "**Tips**: define a new variable by adding a smaller and smaller value (proceeding similarly to prob. 2) to an original variable and check the point where the two are the same "
   ]
  },
  {
   "cell_type": "code",
   "execution_count": 57,
   "metadata": {},
   "outputs": [
    {
     "name": "stdout",
     "output_type": "stream",
     "text": [
      "1e-17\n"
     ]
    }
   ],
   "source": [
    "a=0\n",
    "i=1\n",
    "while a!=1.0:\n",
    "    a=1+1.0*10**-i\n",
    "    i+=1\n",
    "    \n",
    "print(10**-i)"
   ]
  },
  {
   "cell_type": "markdown",
   "metadata": {},
   "source": [
    "5\\. Write a function that takes in input three parameters $a$, $b$ and $c$ and prints out the two solutions to the quadratic equation $ax^2+bx+c=0$ using the standard formula:\n",
    "$$\n",
    "x=\\frac{-b\\pm\\sqrt{b^2-4ac}}{2a}\n",
    "$$\n",
    "\n",
    "(a) use the program to compute the solution for $a=0.001$, $b=1000$ and $c=0.001$\n",
    "\n",
    "(b) re-express the standard solution formula by multiplying top and bottom by $-b\\mp\\sqrt{b^2-4ac}$ and again find the solution for $a=0.001$, $b=1000$ and $c=0.001$. How does it compare with what previously obtained? Why?\n",
    "\n",
    "(c) write a function that compute the roots of a quadratic equation accurately in all cases"
   ]
  },
  {
   "cell_type": "code",
   "execution_count": 1,
   "metadata": {},
   "outputs": [
    {
     "data": {
      "text/plain": [
       "(-9.999894245993346e-07, -999999.999999)"
      ]
     },
     "execution_count": 1,
     "metadata": {},
     "output_type": "execute_result"
    }
   ],
   "source": [
    "def eq(a,b,c):\n",
    "    x_1=(-b+pow((b**2-4*a*c),0.5))/(2*a)\n",
    "    x_2=(-b-pow((b**2-4*a*c),0.5))/(2*a)\n",
    "    \n",
    "    return x_1,x_2\n",
    "\n",
    "eq(0.001,1000,0.001)"
   ]
  },
  {
   "cell_type": "code",
   "execution_count": 73,
   "metadata": {},
   "outputs": [
    {
     "data": {
      "text/plain": [
       "(-9.999894245993346e-07, -999999.9999990001)"
      ]
     },
     "execution_count": 73,
     "metadata": {},
     "output_type": "execute_result"
    }
   ],
   "source": [
    "def eq_2(a,b,c):\n",
    "    x_1=(-b+pow((b**2-4*a*c),0.5))*(-b-pow((b**2-4*a*c),0.5))/((2*a)*(-b-pow((b**2-4*a*c),0.5)))\n",
    "    x_2=(-b-pow((b**2-4*a*c),0.5))*(-b+pow((b**2-4*a*c),0.5))/((2*a)*(-b+pow((b**2-4*a*c),0.5)))\n",
    "    \n",
    "    return x_1,x_2\n",
    "\n",
    "eq_2(0.001,1000,0.001)"
   ]
  },
  {
   "cell_type": "code",
   "execution_count": null,
   "metadata": {},
   "outputs": [],
   "source": []
  },
  {
   "cell_type": "markdown",
   "metadata": {},
   "source": [
    "6\\. Write a program that implements the function $f(x)=x(x−1)$\n",
    "\n",
    "(a) Calculate the derivative of the function at the point $x = 1$ using the derivative definition:\n",
    "\n",
    "$$\n",
    "\\frac{{\\rm d}f}{{\\rm d}x} = \\lim_{\\delta\\to0} \\frac{f(x+\\delta)-f(x)}{\\delta}\n",
    "$$\n",
    "\n",
    "with $\\delta = 10^{−2}$. Calculate the true value of the same derivative analytically and compare with the answer your program gives. The two will not agree perfectly. Why not?\n",
    "\n",
    "(b) Repeat the calculation for $\\delta = 10^{−4}, 10^{−6}, 10^{−8}, 10^{−10}, 10^{−12}$ and $10^{−14}$. How does the accuracy scales with $\\delta$?"
   ]
  },
  {
   "cell_type": "code",
   "execution_count": 3,
   "metadata": {},
   "outputs": [],
   "source": [
    "def f(x):\n",
    "    return x*(x-1)"
   ]
  },
  {
   "cell_type": "code",
   "execution_count": 15,
   "metadata": {},
   "outputs": [
    {
     "name": "stdout",
     "output_type": "stream",
     "text": [
      "0.010000000000000897\n",
      "0.0009999999998895337\n",
      "9.999999988985486e-05\n",
      "1.0000006551269536e-05\n",
      "9.99917733279787e-07\n",
      "1.0058386723521551e-07\n",
      "3.922528746258536e-09\n",
      "8.374037108183074e-08\n",
      "8.284037100736441e-08\n",
      "8.275037099991778e-08\n",
      "8.890058334132256e-05\n",
      "0.0007992778372593046\n"
     ]
    }
   ],
   "source": [
    "def der(f,x,delta):\n",
    "    return (f(x+delta)-f(x))/delta\n",
    "\n",
    "def trueder(x):\n",
    "    return 2*x-1\n",
    "\n",
    "for i in range (2,14):\n",
    "    errore=abs(der(f,1,10**-i)-trueder(1))\n",
    "    i+=2\n",
    "    print(errore)"
   ]
  },
  {
   "cell_type": "markdown",
   "metadata": {},
   "source": [
    "7\\. Consider the integral of the semicircle of radius 1:\n",
    "$$\n",
    "I=\\int_{-1}^{1} \\sqrt(1-x^2) {\\rm d}x\n",
    "$$\n",
    "which it's known to be $I=\\frac{\\pi}{2}=1.57079632679...$.\n",
    "Alternatively we can use the Riemann definition of the integral:\n",
    "$$\n",
    "I=\\lim_{N\\to\\infty} \\sum_{k=1}^{N} h y_k \n",
    "$$\n",
    "\n",
    "with $h=2/N$ the width of each of the $N$ slices the domain is divided into and where\n",
    "$y_k$ is the value of the function at the $k-$th slice.\n",
    "\n",
    "(a) Write a programe to compute the integral with $N=100$. How does the result compares to the true value?\n",
    "\n",
    "(b) How much can $N$ be increased if the computation needs to be run in less than a second? What is the gain in running it for 1 minute? \n"
   ]
  },
  {
   "cell_type": "code",
   "execution_count": null,
   "metadata": {},
   "outputs": [],
   "source": [
    "def ipsilon(x):\n",
    "    return pow(1-x**2,0.5)\n",
    "\n",
    "def integral(n,ipsilon,x):\n",
    "    sum=0\n",
    "    for i in range (1,n):\n",
    "        sum+=2*ipsilon(x)/n\n",
    "        x+=0.02 #step per le x (2/100)\n",
    "    return sum\n",
    "\n",
    "#integral(100,ipsilon,-1)\n",
    "#t=%timeit integral(100,ipsilon,-1)\n",
    "#print(t)\n",
    "\n",
    "import time\n",
    "\n",
    "n=0\n",
    "while True:\n",
    "    t1=time.time()\n",
    "    integral(n,ipsilon,-1)\n",
    "    t2=time.time()\n",
    "    if t2-t1>60:\n",
    "        print(n)\n",
    "        break\n",
    "    n+=1"
   ]
  }
 ],
 "metadata": {
  "kernelspec": {
   "display_name": "Python 3",
   "language": "python",
   "name": "python3"
  },
  "language_info": {
   "codemirror_mode": {
    "name": "ipython",
    "version": 3
   },
   "file_extension": ".py",
   "mimetype": "text/x-python",
   "name": "python",
   "nbconvert_exporter": "python",
   "pygments_lexer": "ipython3",
   "version": "3.8.3"
  }
 },
 "nbformat": 4,
 "nbformat_minor": 2
}
