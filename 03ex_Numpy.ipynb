{
 "cells": [
  {
   "cell_type": "markdown",
   "metadata": {},
   "source": [
    "### Numpy basics"
   ]
  },
  {
   "cell_type": "markdown",
   "metadata": {},
   "source": [
    "1\\. Find the row, column and overall means for the following matrix:\n",
    "\n",
    "```python\n",
    "m = np.arange(12).reshape((3,4))\n",
    "```"
   ]
  },
  {
   "cell_type": "code",
   "execution_count": 2,
   "metadata": {},
   "outputs": [],
   "source": [
    "import numpy as np"
   ]
  },
  {
   "cell_type": "code",
   "execution_count": 44,
   "metadata": {},
   "outputs": [
    {
     "name": "stdout",
     "output_type": "stream",
     "text": [
      "[[ 0  1  2  3]\n",
      " [ 4  5  6  7]\n",
      " [ 8  9 10 11]]\n",
      "row means:  [1.5 5.5 9.5]\n",
      "column means:  [4. 5. 6. 7.]\n",
      "overall mean:  5.5\n"
     ]
    }
   ],
   "source": [
    "m=np.arange(12).reshape((3,4))\n",
    "print(m)\n",
    "\n",
    "mean_row=np.array([np.mean(m[i,:]) for i in range(m.shape[0])])\n",
    "mean_column=np.array([np.mean(m[:,i]) for i in range(m.shape[1])])\n",
    "mean=np.array(np.mean(m))\n",
    "print(\"row means: \",mean_row)\n",
    "print(\"column means: \",mean_column)\n",
    "print(\"overall mean: \",mean)"
   ]
  },
  {
   "cell_type": "markdown",
   "metadata": {},
   "source": [
    "2\\. Find the outer product of the following two vecotrs\n",
    "\n",
    "```python\n",
    "u = np.array([1,3,5,7])\n",
    "v = np.array([2,4,6,8])\n",
    "```\n",
    "\n",
    "Do this in the following ways:\n",
    "\n",
    "   * Using the function outer in numpy\n",
    "   * Using a nested for loop or list comprehension\n",
    "   * Using numpy broadcasting operatoins\n"
   ]
  },
  {
   "cell_type": "code",
   "execution_count": 100,
   "metadata": {},
   "outputs": [
    {
     "name": "stdout",
     "output_type": "stream",
     "text": [
      "[1 3 5 7] \n",
      " [2 4 6 8] \n",
      "\n",
      "[[ 2  4  6  8]\n",
      " [ 6 12 18 24]\n",
      " [10 20 30 40]\n",
      " [14 28 42 56]] \n",
      "\n",
      "[[ 2  4  6  8]\n",
      " [ 6 12 18 24]\n",
      " [10 20 30 40]\n",
      " [14 28 42 56]] \n",
      "\n",
      "[[ 2  4  6  8]\n",
      " [ 6 12 18 24]\n",
      " [10 20 30 40]\n",
      " [14 28 42 56]]\n"
     ]
    }
   ],
   "source": [
    "u=np.array([1,3,5,7])\n",
    "v=np.array([2,4,6,8])\n",
    "print(u,\"\\n\",v,\"\\n\")\n",
    "\n",
    "out_out=np.outer(u,v)\n",
    "print(out_out ,'\\n')\n",
    "\n",
    "out_list=np.array([ [u[i]*v[j] for j in range(4)] for i in range(4)])\n",
    "print(out_list, '\\n')\n",
    "\n",
    "u_broad=np.tile(u,(4,1)).T\n",
    "v_broad=np.tile(v,(4,1))\n",
    "\n",
    "out_broad=u_broad*v_broad\n",
    "print(out_broad)"
   ]
  },
  {
   "cell_type": "markdown",
   "metadata": {},
   "source": [
    "3\\. Create a 10 by 6 matrix of random uniform numbers. Set all rows with any entry less than 0.1 to be zero\n",
    "\n",
    "Hint: Use the following numpy functions - np.random.random, np.any as well as Boolean indexing and the axis argument."
   ]
  },
  {
   "cell_type": "code",
   "execution_count": 218,
   "metadata": {},
   "outputs": [
    {
     "name": "stdout",
     "output_type": "stream",
     "text": [
      "[[0.88818815 0.54890081 0.68978502 0.12326049 0.1811893  0.03301256]\n",
      " [0.40168774 0.80238081 0.37891931 0.41637429 0.34031116 0.48977302]\n",
      " [0.18609614 0.24448775 0.71950695 0.89927335 0.39180931 0.36678949]\n",
      " [0.91526719 0.92242129 0.8273095  0.76785138 0.6064796  0.8297154 ]\n",
      " [0.70630317 0.57385264 0.05682538 0.04259271 0.63572183 0.2399937 ]\n",
      " [0.08991266 0.17923857 0.03181031 0.4366531  0.06098674 0.95178952]\n",
      " [0.80345912 0.39981641 0.70839292 0.95824881 0.07714784 0.0703908 ]\n",
      " [0.5939733  0.27908356 0.650183   0.58396595 0.04716147 0.4705662 ]\n",
      " [0.53578424 0.22616088 0.99610545 0.89134237 0.52395038 0.11306593]\n",
      " [0.93227811 0.30646285 0.02865114 0.15312442 0.18278299 0.12163344]] \n",
      "\n",
      "[[0.         0.         0.         0.         0.         0.        ]\n",
      " [0.40168774 0.80238081 0.37891931 0.41637429 0.34031116 0.48977302]\n",
      " [0.18609614 0.24448775 0.71950695 0.89927335 0.39180931 0.36678949]\n",
      " [0.91526719 0.92242129 0.8273095  0.76785138 0.6064796  0.8297154 ]\n",
      " [0.         0.         0.         0.         0.         0.        ]\n",
      " [0.         0.         0.         0.         0.         0.        ]\n",
      " [0.         0.         0.         0.         0.         0.        ]\n",
      " [0.         0.         0.         0.         0.         0.        ]\n",
      " [0.53578424 0.22616088 0.99610545 0.89134237 0.52395038 0.11306593]\n",
      " [0.         0.         0.         0.         0.         0.        ]]\n"
     ]
    }
   ],
   "source": [
    "import numpy.random as npr\n",
    "\n",
    "random=npr.rand(10,6)\n",
    "print(random,\"\\n\")\n",
    "\n",
    "for i in range(10):\n",
    "    if (np.any(random[i,:]<0.1))==True:\n",
    "        random[i,:]=0\n",
    "\n",
    "print(random)"
   ]
  },
  {
   "cell_type": "markdown",
   "metadata": {},
   "source": [
    "4\\. Use np.linspace to create an array of 100 numbers between 0 and 2π (includsive).\n",
    "\n",
    "  * Extract every 10th element using slice notation\n",
    "  * Reverse the array using slice notation\n",
    "  * Extract elements where the absolute difference between the sine and cosine functions evaluated at that element is less than 0.1\n",
    "  * Make a plot showing the sin and cos functions and indicate where they are close"
   ]
  },
  {
   "cell_type": "code",
   "execution_count": 38,
   "metadata": {
    "scrolled": false
   },
   "outputs": [
    {
     "name": "stdout",
     "output_type": "stream",
     "text": [
      "[0.         0.06346652 0.12693304 0.19039955 0.25386607 0.31733259\n",
      " 0.38079911 0.44426563 0.50773215 0.57119866 0.63466518 0.6981317\n",
      " 0.76159822 0.82506474 0.88853126 0.95199777 1.01546429 1.07893081\n",
      " 1.14239733 1.20586385 1.26933037 1.33279688 1.3962634  1.45972992\n",
      " 1.52319644 1.58666296 1.65012947 1.71359599 1.77706251 1.84052903\n",
      " 1.90399555 1.96746207 2.03092858 2.0943951  2.15786162 2.22132814\n",
      " 2.28479466 2.34826118 2.41172769 2.47519421 2.53866073 2.60212725\n",
      " 2.66559377 2.72906028 2.7925268  2.85599332 2.91945984 2.98292636\n",
      " 3.04639288 3.10985939 3.17332591 3.23679243 3.30025895 3.36372547\n",
      " 3.42719199 3.4906585  3.55412502 3.61759154 3.68105806 3.74452458\n",
      " 3.8079911  3.87145761 3.93492413 3.99839065 4.06185717 4.12532369\n",
      " 4.1887902  4.25225672 4.31572324 4.37918976 4.44265628 4.5061228\n",
      " 4.56958931 4.63305583 4.69652235 4.75998887 4.82345539 4.88692191\n",
      " 4.95038842 5.01385494 5.07732146 5.14078798 5.2042545  5.26772102\n",
      " 5.33118753 5.39465405 5.45812057 5.52158709 5.58505361 5.64852012\n",
      " 5.71198664 5.77545316 5.83891968 5.9023862  5.96585272 6.02931923\n",
      " 6.09278575 6.15625227 6.21971879 6.28318531] \n",
      "\n",
      "every 10th elements:  [0.         0.63466518 1.26933037 1.90399555 2.53866073 3.17332591\n",
      " 3.8079911  4.44265628 5.07732146 5.71198664] \n",
      "\n",
      "reverse array:  [6.28318531 6.21971879 6.15625227 6.09278575 6.02931923 5.96585272\n",
      " 5.9023862  5.83891968 5.77545316 5.71198664 5.64852012 5.58505361\n",
      " 5.52158709 5.45812057 5.39465405 5.33118753 5.26772102 5.2042545\n",
      " 5.14078798 5.07732146 5.01385494 4.95038842 4.88692191 4.82345539\n",
      " 4.75998887 4.69652235 4.63305583 4.56958931 4.5061228  4.44265628\n",
      " 4.37918976 4.31572324 4.25225672 4.1887902  4.12532369 4.06185717\n",
      " 3.99839065 3.93492413 3.87145761 3.8079911  3.74452458 3.68105806\n",
      " 3.61759154 3.55412502 3.4906585  3.42719199 3.36372547 3.30025895\n",
      " 3.23679243 3.17332591 3.10985939 3.04639288 2.98292636 2.91945984\n",
      " 2.85599332 2.7925268  2.72906028 2.66559377 2.60212725 2.53866073\n",
      " 2.47519421 2.41172769 2.34826118 2.28479466 2.22132814 2.15786162\n",
      " 2.0943951  2.03092858 1.96746207 1.90399555 1.84052903 1.77706251\n",
      " 1.71359599 1.65012947 1.58666296 1.52319644 1.45972992 1.3962634\n",
      " 1.33279688 1.26933037 1.20586385 1.14239733 1.07893081 1.01546429\n",
      " 0.95199777 0.88853126 0.82506474 0.76159822 0.6981317  0.63466518\n",
      " 0.57119866 0.50773215 0.44426563 0.38079911 0.31733259 0.25386607\n",
      " 0.19039955 0.12693304 0.06346652 0.        ] \n",
      "\n",
      "elements where abs difference between sine and cosine is less than 0.1:  [0.76159822 0.82506474 3.87145761 3.93492413]\n"
     ]
    },
    {
     "data": {
      "image/png": "[encoded data removed]",
      "text/plain": [
       "<Figure size 432x288 with 1 Axes>"
      ]
     },
     "metadata": {
      "needs_background": "light"
     },
     "output_type": "display_data"
    }
   ],
   "source": [
    "import math as m\n",
    "import numpy as np\n",
    "import matplotlib.pyplot as plt\n",
    "\n",
    "a=np.linspace(0,2*m.pi,num=100)\n",
    "\n",
    "print(a,\"\\n\")\n",
    "\n",
    "print('every 10th elements: ',a[0:100:10],\"\\n\")\n",
    "\n",
    "print('reverse array: ',a[::-1],\"\\n\")\n",
    "\n",
    "c=np.array([a[i] for i in range(100) if abs(m.cos(a[i])-m.sin(a[i]))<0.1])\n",
    "print('elements where abs difference between sine and cosine is less than 0.1: ',c)\n",
    "y_a=np.array(np.cos(c))\n",
    "y_b=np.array(np.sin(c))\n",
    "\n",
    "%matplotlib inline\n",
    "\n",
    "plt.plot(a,np.sin(a))\n",
    "plt.plot(a,np.cos(a))\n",
    "plt.plot(c,y_a,'bo')\n",
    "plt.plot(c,y_b,'ro')\n",
    "plt.show()"
   ]
  },
  {
   "cell_type": "markdown",
   "metadata": {},
   "source": [
    "5\\. Create a matrix that shows the 10 by 10 multiplication table.\n",
    "\n",
    " * Find the trace of the matrix\n",
    " * Extract the anto-diagonal (this should be ```array([10, 18, 24, 28, 30, 30, 28, 24, 18, 10])```)\n",
    " * Extract the diagnoal offset by 1 upwards (this should be ```array([ 2,  6, 12, 20, 30, 42, 56, 72, 90])```)"
   ]
  },
  {
   "cell_type": "code",
   "execution_count": 37,
   "metadata": {},
   "outputs": [
    {
     "name": "stdout",
     "output_type": "stream",
     "text": [
      "[[  1   2   3   4   5   6   7   8   9  10]\n",
      " [  2   4   6   8  10  12  14  16  18  20]\n",
      " [  3   6   9  12  15  18  21  24  27  30]\n",
      " [  4   8  12  16  20  24  28  32  36  40]\n",
      " [  5  10  15  20  25  30  35  40  45  50]\n",
      " [  6  12  18  24  30  36  42  48  54  60]\n",
      " [  7  14  21  28  35  42  49  56  63  70]\n",
      " [  8  16  24  32  40  48  56  64  72  80]\n",
      " [  9  18  27  36  45  54  63  72  81  90]\n",
      " [ 10  20  30  40  50  60  70  80  90 100]] \n",
      "\n",
      "trace: 385\n",
      "anto diagonal:  [10 18 24 28 30 30 28 24 18 10]\n",
      "diagonal offset by 1:  [ 2  6 12 20 30 42 56 72 90]\n"
     ]
    }
   ],
   "source": [
    "a=np.array([ [i*j for j in range(1,11)] for i in range(1,11)])\n",
    "print(a,'\\n')\n",
    "\n",
    "print(\"trace:\" ,np.trace(a))\n",
    "\n",
    "anto_diagonal=np.array([a[i,9-i] for i in range(0,10)])\n",
    "print(\"anto diagonal: \",anto_diagonal)\n",
    "\n",
    "diag=np.array([a[1+i,i] for i in range(0,9)])\n",
    "print(\"diagonal offset by 1: \",diag)"
   ]
  },
  {
   "cell_type": "markdown",
   "metadata": {},
   "source": [
    "6\\. Use broadcasting to create a grid of distances\n",
    "\n",
    "Route 66 crosses the following cities in the US: Chicago, Springfield, Saint-Louis, Tulsa, Oklahoma City, Amarillo, Santa Fe, Albuquerque, Flagstaff, Los Angeles\n",
    "The corresponding positions in miles are: 0, 198, 303, 736, 871, 1175, 1475, 1544, 1913, 2448\n",
    "\n",
    "  * Construct a 2D grid of distances among each city along Route 66\n",
    "  * Convert that in km (those savages...)"
   ]
  },
  {
   "cell_type": "code",
   "execution_count": 3,
   "metadata": {},
   "outputs": [
    {
     "name": "stdout",
     "output_type": "stream",
     "text": [
      "      CG    SP    SL    TU    OK    AM    SF    AL    FL    LA\n",
      "CG     0   198   303   736   871  1175  1475  1544  1913  2448\n",
      "SP   198     0   105   538   673   977  1277  1346  1715  2250\n",
      "SL   303   105     0   433   568   872  1172  1241  1610  2145\n",
      "TU   736   538   433     0   135   439   739   808  1177  1712\n",
      "OK   871   673   568   135     0   304   604   673  1042  1577\n",
      "AM  1175   977   872   439   304     0   300   369   738  1273\n",
      "SF  1475  1277  1172   739   604   300     0    69   438   973\n",
      "AL  1544  1346  1241   808   673   369    69     0   369   904\n",
      "FL  1913  1715  1610  1177  1042   738   438   369     0   535\n",
      "LA  2448  2250  2145  1712  1577  1273   973   904   535     0\n",
      "        CG      SP      SL      TU      OK      AM      SF      AL      FL  \\\n",
      "CG     0.0   318.7   487.6  1184.5  1401.7  1891.0  2373.8  2484.8  3078.7   \n",
      "SP   318.7     0.0   169.0   865.8  1083.1  1572.3  2055.1  2166.2  2760.0   \n",
      "SL   487.6   169.0     0.0   696.8   914.1  1403.3  1886.2  1997.2  2591.0   \n",
      "TU  1184.5   865.8   696.8     0.0   217.3   706.5  1189.3  1300.3  1894.2   \n",
      "OK  1401.7  1083.1   914.1   217.3     0.0   489.2   972.0  1083.1  1676.9   \n",
      "AM  1891.0  1572.3  1403.3   706.5   489.2     0.0   482.8   593.8  1187.7   \n",
      "SF  2373.8  2055.1  1886.2  1189.3   972.0   482.8     0.0   111.0   704.9   \n",
      "AL  2484.8  2166.2  1997.2  1300.3  1083.1   593.8   111.0     0.0   593.8   \n",
      "FL  3078.7  2760.0  2591.0  1894.2  1676.9  1187.7   704.9   593.8     0.0   \n",
      "LA  3939.7  3621.0  3452.0  2755.2  2537.9  2048.7  1565.9  1454.8   861.0   \n",
      "\n",
      "        LA  \n",
      "CG  3939.7  \n",
      "SP  3621.0  \n",
      "SL  3452.0  \n",
      "TU  2755.2  \n",
      "OK  2537.9  \n",
      "AM  2048.7  \n",
      "SF  1565.9  \n",
      "AL  1454.8  \n",
      "FL   861.0  \n",
      "LA     0.0  \n"
     ]
    }
   ],
   "source": [
    "positions_or=np.array([0, 198, 303, 736, 871, 1175, 1475, 1544, 1913, 2448])\n",
    "positions_vr=np.tile(positions_or,(10,1)).T\n",
    "\n",
    "distances=abs(positions_vr-positions_or)\n",
    "row_labels=['CG','SP','SL','TU','OK','AM','SF','AL','FL','LA']\n",
    "\n",
    "column_labels=['CG','SP','SL','TU','OK','AM','SF','AL','FL','LA']\n",
    "\n",
    "import pandas\n",
    "df= pandas.DataFrame(distances,columns=column_labels, index=row_labels)\n",
    "print(df)\n",
    "\n",
    "distances_km=np.around(distances*1.609344,1)\n",
    "\n",
    "df_2= pandas.DataFrame(distances_km,columns=column_labels, index=row_labels)\n",
    "print(df_2)"
   ]
  },
  {
   "cell_type": "markdown",
   "metadata": {},
   "source": [
    "7\\. Prime numbers sieve: compute the prime numbers in the 0-N (N=99 to start with) range with a sieve (mask).\n",
    "  * Constract a shape (100,) boolean array, the mask\n",
    "  * Identify the multiples of each number starting from 2 and set accordingly the corresponding mask element\n",
    "  * Apply the mask to obtain an array of ordered prime numbers\n",
    "  * Check the performances (timeit); how does it scale with N?\n",
    "  * Implement the optimization suggested in the [sieve of Eratosthenes](https://en.wikipedia.org/wiki/Sieve_of_Eratosthenes)"
   ]
  },
  {
   "cell_type": "code",
   "execution_count": 23,
   "metadata": {},
   "outputs": [
    {
     "name": "stdout",
     "output_type": "stream",
     "text": [
      "[ 1  2  3  5  7 11 13 17 19 23 29 31 37 41 43 47 53 59 61 67 71 73 79 83\n",
      " 89 97]\n"
     ]
    },
    {
     "data": {
      "image/png": "[encoded data removed]",
      "text/plain": [
       "<Figure size 432x288 with 1 Axes>"
      ]
     },
     "metadata": {
      "needs_background": "light"
     },
     "output_type": "display_data"
    }
   ],
   "source": [
    "import numpy as np\n",
    "import math as m\n",
    "import matplotlib.pyplot as plt\n",
    "import time\n",
    "\n",
    "def prime(n):\n",
    "    mask=np.full(n+1, False, dtype=bool)\n",
    "    \n",
    "    for i in range(1,n+1):\n",
    "        if all(i%j!=0 for j in range(2,i)):\n",
    "            mask[i]=True\n",
    "            \n",
    "    return mask\n",
    "\n",
    "num=np.arange(0,101,1)\n",
    "prim=num[prime(100)]\n",
    "print(prim)\n",
    "\n",
    "n=1\n",
    "n_ar=[]\n",
    "t_ar=[]\n",
    "\n",
    "while True:\n",
    "    t1=time.time()\n",
    "    prim=np.arange(0,n+1)[prime(n)]\n",
    "    t2=time.time()\n",
    "    n_ar.append(n)\n",
    "    t_ar.append(t2-t1)\n",
    "    n+=10\n",
    "    if n>3000:\n",
    "        break\n",
    "\n",
    "%matplotlib inline\n",
    "plt.plot(n_ar,t_ar)\n",
    "plt.show()"
   ]
  },
  {
   "cell_type": "code",
   "execution_count": 86,
   "metadata": {},
   "outputs": [
    {
     "name": "stdout",
     "output_type": "stream",
     "text": [
      "[ 2  3  5  7 11 13 17 19 23 29 31 37 41 43 47 53 59 61 67 71 73 79 83 89\n",
      " 97]\n"
     ]
    }
   ],
   "source": [
    "def sieve_of_er(n):\n",
    "    mask=np.array([True for j in range(2,n)])\n",
    "    \n",
    "    for p in range(2,98):\n",
    "        \n",
    "        i=2\n",
    "        while True:\n",
    "            if i*p>n-1:\n",
    "                break\n",
    "            else:\n",
    "                mask[i*p-2]=False\n",
    "                i+=1\n",
    "\n",
    "        \n",
    "       # for i in range(p,10):\n",
    "        #    mask[i*p-2]=False\n",
    "    \n",
    "    return mask\n",
    "\n",
    "\n",
    "num=np.arange(2,100)\n",
    "prim=num[sieve_of_er(100)]\n",
    "print(prim)"
   ]
  },
  {
   "cell_type": "markdown",
   "metadata": {},
   "source": [
    "8\\. Diffusion using random walk\n",
    "\n",
    "Consider a simple random walk process: at each step in time, a walker jumps right or left (+1 or -1) with equal probability. The goal is to find the typical distance from the origin of a random walker after a given amount of time. \n",
    "To do that, let's simulate many walkers and create a 2D array with each walker as a raw and the actual time evolution as columns\n",
    "\n",
    "  * Take 1000 walkers and let them walk for 200 steps\n",
    "  * Use randint to create a 2D array of size walkers x steps with values -1 or 1\n",
    "  * Build the actual walking distances for each walker (i.e. another 2D array \"summing on each raw\")\n",
    "  * Take the square of that 2D array (elementwise)\n",
    "  * Compute the mean of the squared distances at each step (i.e. the mean along the columns)\n",
    "  * Plot the average distances (sqrt(distance\\*\\*2)) as a function of time (step)\n",
    "  \n",
    "Did you get what you expected?"
   ]
  },
  {
   "cell_type": "code",
   "execution_count": 134,
   "metadata": {},
   "outputs": [
    {
     "name": "stdout",
     "output_type": "stream",
     "text": [
      "[[-1 -1 -1 ... -1  1 -1]\n",
      " [ 1  1 -1 ... -1 -1 -1]\n",
      " [-1 -1  1 ...  1  1  1]\n",
      " ...\n",
      " [ 1  1  1 ... -1  1 -1]\n",
      " [ 1 -1 -1 ...  1 -1 -1]\n",
      " [ 1 -1 -1 ...  1 -1  1]]\n"
     ]
    },
    {
     "data": {
      "text/plain": [
       "<function matplotlib.pyplot.show(*args, **kw)>"
      ]
     },
     "execution_count": 134,
     "metadata": {},
     "output_type": "execute_result"
    },
    {
     "data": {
      "image/png": "[encoded data removed]",
      "text/plain": [
       "<Figure size 432x288 with 1 Axes>"
      ]
     },
     "metadata": {
      "needs_background": "light"
     },
     "output_type": "display_data"
    }
   ],
   "source": [
    "walkers=1000\n",
    "steps=200\n",
    "\n",
    "x=np.random.randint(2, size= (walkers, steps))\n",
    "x=np.where(x==0,-1,x)\n",
    "print(x)\n",
    "\n",
    "for i in range(1,200):\n",
    "    x[:,0]=0\n",
    "    x[:,i]=x[:,i-1]+x[:,i]\n",
    "\n",
    "square=x**2\n",
    "\n",
    "mean=square.mean(axis=0)\n",
    "av_distances=pow(mean,0.5)\n",
    "time=np.arange(0,200)\n",
    "\n",
    "plt.plot(time,av_distances)\n",
    "plt.show"
   ]
  },
  {
   "cell_type": "markdown",
   "metadata": {},
   "source": [
    "9\\. Analyze a data file \n",
    "  * Download the population of hares, lynxes and carrots at the beginning of the last century.\n",
    "    ```python\n",
    "    ! wget https://www.dropbox.com/s/3vigxoqayo389uc/populations.txt\n",
    "    ```\n",
    "\n",
    "  * Check the content by looking within the file\n",
    "  * Load the data (use an appropriate numpy method) into a 2D array\n",
    "  * Create arrays out of the columns, the arrays being (in order): *year*, *hares*, *lynxes*, *carrots* \n",
    "  * Plot the 3 populations over the years\n",
    "  * Compute the main statistical properties of the dataset (mean, std, correlations, etc.)\n",
    "  * Which species has the highest population each year?\n",
    "\n",
    "Do you feel there is some evident correlation here? [Studies](https://www.enr.gov.nt.ca/en/services/lynx/lynx-snowshoe-hare-cycle) tend to believe so."
   ]
  },
  {
   "cell_type": "code",
   "execution_count": 4,
   "metadata": {},
   "outputs": [
    {
     "name": "stdout",
     "output_type": "stream",
     "text": [
      "[[ 1900. 30000.  4000. 48300.]\n",
      " [ 1901. 47200.  6100. 48200.]\n",
      " [ 1902. 70200.  9800. 41500.]\n",
      " [ 1903. 77400. 35200. 38200.]\n",
      " [ 1904. 36300. 59400. 40600.]\n",
      " [ 1905. 20600. 41700. 39800.]\n",
      " [ 1906. 18100. 19000. 38600.]\n",
      " [ 1907. 21400. 13000. 42300.]\n",
      " [ 1908. 22000.  8300. 44500.]\n",
      " [ 1909. 25400.  9100. 42100.]\n",
      " [ 1910. 27100.  7400. 46000.]\n",
      " [ 1911. 40300.  8000. 46800.]\n",
      " [ 1912. 57000. 12300. 43800.]\n",
      " [ 1913. 76600. 19500. 40900.]\n",
      " [ 1914. 52300. 45700. 39400.]\n",
      " [ 1915. 19500. 51100. 39000.]\n",
      " [ 1916. 11200. 29700. 36700.]\n",
      " [ 1917.  7600. 15800. 41800.]\n",
      " [ 1918. 14600.  9700. 43300.]\n",
      " [ 1919. 16200. 10100. 41300.]\n",
      " [ 1920. 24700.  8600. 47300.]]\n"
     ]
    },
    {
     "data": {
      "image/png": "[encoded data removed]",
      "text/plain": [
       "<Figure size 432x288 with 1 Axes>"
      ]
     },
     "metadata": {
      "needs_background": "light"
     },
     "output_type": "display_data"
    },
    {
     "name": "stdout",
     "output_type": "stream",
     "text": [
      "hares: \n",
      "mean:  34080.95238095238 \n",
      " std:  20897.906458089667\n",
      "lynxes: \n",
      "mean:  20166.666666666668 \n",
      " std:  16254.591536908763\n",
      "carrots: \n",
      "mean:  42400.0 \n",
      " std:  3322.5062255844787\n",
      "correlation:  [[ 1.         -0.01660378  0.07189206]\n",
      " [-0.01660378  1.         -0.68057717]\n",
      " [ 0.07189206 -0.68057717  1.        ]]\n",
      "highest population: \n",
      "1900.0  carrots\n",
      "1901.0  carrots\n",
      "1902.0  hares\n",
      "1903.0  hares\n",
      "1904.0  lynxes\n",
      "1905.0  lynxes\n",
      "1906.0  carrots\n",
      "1907.0  carrots\n",
      "1908.0  carrots\n",
      "1909.0  carrots\n",
      "1910.0  carrots\n",
      "1911.0  carrots\n",
      "1912.0  hares\n",
      "1913.0  hares\n",
      "1914.0  hares\n",
      "1915.0  lynxes\n",
      "1916.0  carrots\n",
      "1917.0  carrots\n",
      "1918.0  carrots\n",
      "1919.0  carrots\n",
      "1920.0  carrots\n"
     ]
    }
   ],
   "source": [
    "import matplotlib.pyplot as plt\n",
    "\n",
    "x=np.loadtxt('/Users/lucia/UNIVERSITA/GitHub/populations.txt')\n",
    "print(x)\n",
    "\n",
    "year=x[:,0]\n",
    "hares=x[:,1]\n",
    "lynxes=x[:,2]\n",
    "carrots=x[:,3]\n",
    "\n",
    "plt.plot(year,hares, label='hares')\n",
    "plt.plot(year,lynxes, label='lynxes')\n",
    "plt.plot(year,carrots, label='carrots')\n",
    "plt.legend()\n",
    "plt.show()\n",
    "\n",
    "print('hares: \\n' 'mean: ', np.mean(hares) ,'\\n std: ', np.std(hares))\n",
    "print('lynxes: \\n' 'mean: ', np.mean(lynxes) ,'\\n std: ', np.std(lynxes))\n",
    "print('carrots: \\n' 'mean: ', np.mean(carrots) ,'\\n std: ', np.std(carrots))\n",
    "\n",
    "print('correlation: ',np.corrcoef([hares, carrots,lynxes]))\n",
    "\n",
    "print('highest population: ')\n",
    "for i in range(x.shape[0]):\n",
    "    if max(hares[i],lynxes[i],carrots[i])==hares[i]:\n",
    "        print(year[i],' hares')\n",
    "    elif max(hares[i],lynxes[i],carrots[i])==lynxes[i]:\n",
    "        print(year[i],' lynxes')\n",
    "    else:\n",
    "        print(year[i], ' carrots')"
   ]
  }
 ],
 "metadata": {
  "kernelspec": {
   "display_name": "Python 3",
   "language": "python",
   "name": "python3"
  },
  "language_info": {
   "codemirror_mode": {
    "name": "ipython",
    "version": 3
   },
   "file_extension": ".py",
   "mimetype": "text/x-python",
   "name": "python",
   "nbconvert_exporter": "python",
   "pygments_lexer": "ipython3",
   "version": "3.8.3"
  }
 },
 "nbformat": 4,
 "nbformat_minor": 2
}
