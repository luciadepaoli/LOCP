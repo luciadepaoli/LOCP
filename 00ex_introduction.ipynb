{
 "cells": [
  {
   "cell_type": "markdown",
   "metadata": {},
   "source": [
    "1. The MickeyMouse problem\n",
    "\n",
    "a) Write a program that prints the numbers from 1 to 100. But for multiples of three print Mickey instead of the number and for the multiples of five print Mouse. For numbers which are multiples of both three and five print MickeyMouse\n",
    "\n",
    "b) Put the result in a tuple and substitute Mickey with Donald and Mouse with Duck"
   ]
  },
  {
   "cell_type": "code",
   "execution_count": 18,
   "metadata": {},
   "outputs": [
    {
     "name": "stdout",
     "output_type": "stream",
     "text": [
      "1\n",
      "2\n",
      "Mickey\n",
      "3\n",
      "4\n",
      "Mouse\n",
      "5\n",
      "Mickey\n",
      "6\n",
      "7\n",
      "8\n",
      "Mickey\n",
      "9\n",
      "Mouse\n",
      "10\n",
      "11\n",
      "Mickey\n",
      "12\n",
      "13\n",
      "14\n",
      "MickeyMouse\n",
      "16\n",
      "17\n",
      "Mickey\n",
      "18\n",
      "19\n",
      "Mouse\n",
      "20\n",
      "Mickey\n",
      "21\n",
      "22\n",
      "23\n",
      "Mickey\n",
      "24\n",
      "Mouse\n",
      "25\n",
      "26\n",
      "Mickey\n",
      "27\n",
      "28\n",
      "29\n",
      "MickeyMouse\n",
      "31\n",
      "32\n",
      "Mickey\n",
      "33\n",
      "34\n",
      "Mouse\n",
      "35\n",
      "Mickey\n",
      "36\n",
      "37\n",
      "38\n",
      "Mickey\n",
      "39\n",
      "Mouse\n",
      "40\n",
      "41\n",
      "Mickey\n",
      "42\n",
      "43\n",
      "44\n",
      "MickeyMouse\n",
      "46\n",
      "47\n",
      "Mickey\n",
      "48\n",
      "49\n",
      "Mouse\n",
      "50\n",
      "Mickey\n",
      "51\n",
      "52\n",
      "53\n",
      "Mickey\n",
      "54\n",
      "Mouse\n",
      "55\n",
      "56\n",
      "Mickey\n",
      "57\n",
      "58\n",
      "59\n",
      "MickeyMouse\n",
      "61\n",
      "62\n",
      "Mickey\n",
      "63\n",
      "64\n",
      "Mouse\n",
      "65\n",
      "Mickey\n",
      "66\n",
      "67\n",
      "68\n",
      "Mickey\n",
      "69\n",
      "Mouse\n",
      "70\n",
      "71\n",
      "Mickey\n",
      "72\n",
      "73\n",
      "74\n",
      "MickeyMouse\n",
      "76\n",
      "77\n",
      "Mickey\n",
      "78\n",
      "79\n",
      "Mouse\n",
      "80\n",
      "Mickey\n",
      "81\n",
      "82\n",
      "83\n",
      "Mickey\n",
      "84\n",
      "Mouse\n",
      "85\n",
      "86\n",
      "Mickey\n",
      "87\n",
      "88\n",
      "89\n",
      "MickeyMouse\n",
      "91\n",
      "92\n",
      "Mickey\n",
      "93\n",
      "94\n",
      "Mouse\n",
      "95\n",
      "Mickey\n",
      "96\n",
      "97\n",
      "98\n",
      "Mickey\n",
      "99\n",
      "Mouse\n",
      "100\n"
     ]
    }
   ],
   "source": [
    "for i in range(1,101):\n",
    "    if i%3==0 and i%5!=0: print(\"Mickey\")\n",
    "    if i%5==0 and i%3!=0: print(\"Mouse\")\n",
    "    if i%3==0 and i%5==0: print(\"MickeyMouse\")\n",
    "    else: print(i)"
   ]
  },
  {
   "cell_type": "code",
   "execution_count": 52,
   "metadata": {},
   "outputs": [
    {
     "name": "stdout",
     "output_type": "stream",
     "text": [
      "(1, 2, 'Donald', 3, 4, 'Duck', 5, 'Donald', 6, 7, 8, 'Donald', 9, 'Duck', 10, 11, 'Donald', 12, 13, 14, 'DonaldDuck', 16, 17, 'Donald', 18, 19, 'Duck', 20, 'Donald', 21, 22, 23, 'Donald', 24, 'Duck', 25, 26, 'Donald', 27, 28, 29, 'DonaldDuck', 31, 32, 'Donald', 33, 34, 'Duck', 35, 'Donald', 36, 37, 38, 'Donald', 39, 'Duck', 40, 41, 'Donald', 42, 43, 44, 'DonaldDuck', 46, 47, 'Donald', 48, 49, 'Duck', 50, 'Donald', 51, 52, 53, 'Donald', 54, 'Duck', 55, 56, 'Donald', 57, 58, 59, 'DonaldDuck', 61, 62, 'Donald', 63, 64, 'Duck', 65, 'Donald', 66, 67, 68, 'Donald', 69, 'Duck', 70, 71, 'Donald', 72, 73, 74, 'DonaldDuck', 76, 77, 'Donald', 78, 79, 'Duck', 80, 'Donald', 81, 82, 83, 'Donald', 84, 'Duck', 85, 86, 'Donald', 87, 88, 89, 'DonaldDuck', 91, 92, 'Donald', 93, 94, 'Duck', 95, 'Donald', 96, 97, 98, 'Donald', 99, 'Duck', 100)\n"
     ]
    }
   ],
   "source": [
    "a=[]\n",
    "for i in range(1,101):\n",
    "    if i%3==0 and i%5!=0: a.append(\"Mickey\")\n",
    "    if i%5==0 and i%3!=0: a.append(\"Mouse\")\n",
    "    if i%3==0 and i%5==0: a.append(\"MickeyMouse\")\n",
    "    else: a.append(i)\n",
    "\n",
    "dictionary={'Mickey':'Donald','Mouse':'Duck','MickeyMouse':'DonaldDuck'}\n",
    "        \n",
    "a=[dictionary.get(i,i) for i in a]\n",
    "b=tuple(a)\n",
    "print(b)"
   ]
  },
  {
   "cell_type": "markdown",
   "metadata": {},
   "source": [
    "2\\. The swap function\n",
    "\n",
    "Write a function that swap the values of two input variables x and y (whatever the type). Try to do that also without a temporary variable"
   ]
  },
  {
   "cell_type": "code",
   "execution_count": 31,
   "metadata": {},
   "outputs": [
    {
     "name": "stdout",
     "output_type": "stream",
     "text": [
      "x =\n",
      "3\n",
      "y =\n",
      "6\n",
      "x =  6 y = 3\n"
     ]
    }
   ],
   "source": [
    "print(\"x =\")\n",
    "x=input()\n",
    "print(\"y =\")\n",
    "y=input()\n",
    "a=(x,y)\n",
    "x=a[1]\n",
    "y=a[0]\n",
    "print(\"x = \",x, \"y =\",y)"
   ]
  },
  {
   "cell_type": "markdown",
   "metadata": {},
   "source": [
    "3\\. Computing the distance\n",
    "\n",
    "Write a function that calculates and returns the euclidean distance between two points *u* and *v*, where *u* and *v* are both 2-tuples *(x,y)*. For example, if *u=(3,0)* and *v=(0,4)*, the function should return 5"
   ]
  },
  {
   "cell_type": "code",
   "execution_count": 35,
   "metadata": {},
   "outputs": [
    {
     "name": "stdout",
     "output_type": "stream",
     "text": [
      "insert u components\n",
      "3\n",
      "0\n",
      "insert v components\n",
      "0\n",
      "4\n",
      "the euclidean distance is:  5.0\n"
     ]
    }
   ],
   "source": [
    "\n",
    "def distance():\n",
    "    print(\"insert u components\")\n",
    "    u=(int(input()),int(input()))\n",
    "    print(\"insert v components\")\n",
    "    v=(int(input()),int(input()))\n",
    "    \n",
    "    dist=pow(pow(u[0]+v[0],2)+pow(u[1]+v[1],2),0.5)\n",
    "    print(\"the euclidean distance is: \", dist)\n",
    "    \n",
    "distance()"
   ]
  },
  {
   "cell_type": "markdown",
   "metadata": {},
   "source": [
    "4\\. Counting letters\n",
    "\n",
    "Write a program to calculate the number of times each character occurs in a given string *s*. Ignore differneces in capitalization"
   ]
  },
  {
   "cell_type": "code",
   "execution_count": 38,
   "metadata": {},
   "outputs": [
    {
     "name": "stdout",
     "output_type": "stream",
     "text": [
      "insert the string\n",
      "ciaoo\n",
      "{'c': 1, 'i': 1, 'a': 1, 'o': 2}\n"
     ]
    }
   ],
   "source": [
    "print(\"insert the string\")\n",
    "s=input()\n",
    "\n",
    "freq={}\n",
    "\n",
    "for i in s: \n",
    "    if i in freq: \n",
    "        freq[i]+=1\n",
    "    else: \n",
    "        freq[i]=1\n",
    "        \n",
    "print(freq)"
   ]
  },
  {
   "cell_type": "markdown",
   "metadata": {},
   "source": [
    "5\\. Isolating the unique\n",
    "\n",
    "Write a function that determines and count the unique numbers in the list *l*\n"
   ]
  },
  {
   "cell_type": "code",
   "execution_count": 39,
   "metadata": {},
   "outputs": [
    {
     "name": "stdout",
     "output_type": "stream",
     "text": [
      "{36: 3, 45: 3, 58: 1, 3: 2, 74: 1, 96: 1, 64: 1, 31: 2, 10: 1, 24: 1, 19: 1, 33: 1, 86: 1, 99: 1, 18: 1, 63: 2, 70: 3, 85: 3, 47: 1, 56: 2, 42: 2, 84: 4, 88: 1, 55: 1, 20: 3, 54: 1, 8: 1, 51: 3, 79: 1, 81: 1, 57: 1, 37: 1, 91: 3, 1: 1, 66: 2, 9: 1, 89: 2, 50: 2, 95: 1, 90: 1, 98: 1, 39: 1, 16: 1, 82: 1, 92: 1, 41: 1, 30: 1, 34: 2, 94: 1, 5: 1, 72: 1, 87: 1, 75: 1, 53: 1}\n"
     ]
    }
   ],
   "source": [
    "l = [36, 45, 58, 3, 74, 96, 64, 45, 31, 10, 24, 19, 33, 86, 99, 18, 63, 70, 85,\n",
    " 85, 63, 47, 56, 42, 70, 84, 88, 55, 20, 54, 8, 56, 51, 79, 81, 57, 37, 91,\n",
    " 1, 84, 84, 36, 66, 9, 89, 50, 42, 91, 50, 95, 90, 98, 39, 16, 82, 31, 92, 41,\n",
    " 45, 30, 66, 70, 34, 85, 94, 5, 3, 36, 72, 91, 84, 34, 87, 75, 53, 51, 20, 89, 51, 20]\n",
    "\n",
    "freq={} \n",
    "\n",
    "for i in l: \n",
    "    if i in freq: \n",
    "        freq[i]+=1\n",
    "    else: \n",
    "        freq[i]=1\n",
    "        \n",
    "print(freq)"
   ]
  },
  {
   "cell_type": "markdown",
   "metadata": {},
   "source": [
    "6\\. Combination of functions\n",
    "\n",
    "Write two functions - one that returns the square of a number, and one that returns the cube. Now write a third function that returns the number raised to the 6th power using the two previous functions."
   ]
  },
  {
   "cell_type": "code",
   "execution_count": 40,
   "metadata": {},
   "outputs": [
    {
     "name": "stdout",
     "output_type": "stream",
     "text": [
      "insert number\n",
      "10\n",
      "1000000\n"
     ]
    }
   ],
   "source": [
    "def square(a):\n",
    "    result=pow(a,2)\n",
    "    return result\n",
    "\n",
    "def cube(b):\n",
    "    result=pow(b,3)\n",
    "    return result\n",
    "\n",
    "def sixth(c):\n",
    "    result=pow(cube(c),2)\n",
    "    return result\n",
    "\n",
    "print(\"insert number\")\n",
    "print(sixth(int(input())))"
   ]
  },
  {
   "cell_type": "markdown",
   "metadata": {},
   "source": [
    "7\\. Cubes\n",
    "\n",
    "Create a list of the cubes of x for x in *[0, 10]* using:\n",
    "\n",
    "a) a for loop\n",
    "\n",
    "b) a list comprehension"
   ]
  },
  {
   "cell_type": "code",
   "execution_count": 20,
   "metadata": {},
   "outputs": [
    {
     "name": "stdout",
     "output_type": "stream",
     "text": [
      "0\n",
      "1\n",
      "8\n",
      "27\n",
      "64\n",
      "125\n",
      "216\n",
      "343\n",
      "512\n",
      "729\n",
      "1000\n",
      "[0, 1, 8, 27, 64, 125, 216, 343, 512, 729, 1000]\n"
     ]
    }
   ],
   "source": [
    "for i in range(0,11):\n",
    "    i=pow(i,3)\n",
    "    print(i)\n",
    "    \n",
    "cube=[i**3 for i in range(11)]\n",
    "print(cube)"
   ]
  },
  {
   "cell_type": "markdown",
   "metadata": {},
   "source": [
    "8\\. Nested list comprehension\n",
    "\n",
    "A Pythagorean triple is an integer solution to the Pythagorean theorem $a^2+b^2=c^2$. The first Pythagorean triple is (3,4,5). Find and put in a tuple all unique Pythagorean triples for the positive integers a, b and c less than 100."
   ]
  },
  {
   "cell_type": "code",
   "execution_count": 41,
   "metadata": {},
   "outputs": [
    {
     "name": "stdout",
     "output_type": "stream",
     "text": [
      "3 4 5\n",
      "6 8 10\n",
      "5 12 13\n",
      "9 12 15\n",
      "8 15 17\n",
      "12 16 20\n",
      "15 20 25\n",
      "20 21 29\n",
      "7 24 25\n",
      "10 24 26\n",
      "18 24 30\n",
      "21 28 35\n",
      "16 30 34\n",
      "24 32 40\n",
      "12 35 37\n",
      "15 36 39\n",
      "27 36 45\n",
      "9 40 41\n",
      "30 40 50\n",
      "40 42 58\n",
      "33 44 55\n",
      "24 45 51\n",
      "28 45 53\n",
      "14 48 50\n",
      "20 48 52\n",
      "36 48 60\n",
      "39 52 65\n",
      "48 55 73\n",
      "33 56 65\n",
      "42 56 70\n",
      "11 60 61\n",
      "25 60 65\n",
      "32 60 68\n",
      "45 60 75\n",
      "16 63 65\n",
      "60 63 87\n",
      "48 64 80\n",
      "51 68 85\n",
      "24 70 74\n",
      "21 72 75\n",
      "30 72 78\n",
      "54 72 90\n",
      "65 72 97\n",
      "40 75 85\n",
      "57 76 95\n",
      "36 77 85\n",
      "18 80 82\n",
      "39 80 89\n",
      "60 80 100\n",
      "13 84 85\n",
      "35 84 91\n",
      "63 84 105\n",
      "80 84 116\n",
      "66 88 110\n",
      "48 90 102\n",
      "56 90 106\n",
      "60 91 109\n",
      "69 92 115\n",
      "28 96 100\n",
      "40 96 104\n",
      "72 96 120\n",
      "20 99 101\n"
     ]
    }
   ],
   "source": [
    "for b in range(1,100):\n",
    "    for a in range(1,b):\n",
    "        c=pow(a**2+b**2,0.5)\n",
    "        if c%1==0:\n",
    "            print(a,b,int(c))"
   ]
  },
  {
   "cell_type": "markdown",
   "metadata": {},
   "source": [
    "9\\. Normalization\n",
    "\n",
    "Write a function that takes a tuple of numbers and returns it with the entries normalized to one"
   ]
  },
  {
   "cell_type": "code",
   "execution_count": 47,
   "metadata": {},
   "outputs": [
    {
     "name": "stdout",
     "output_type": "stream",
     "text": [
      "how many number you want to normalized?\n",
      "4\n",
      "insert the  4  numbers\n",
      "5\n",
      "4\n",
      "3\n",
      "54\n",
      "(0.08, 0.06, 0.05, 0.82)\n"
     ]
    }
   ],
   "source": [
    "a=[]\n",
    "sum=0\n",
    "\n",
    "print(\"how many number you want to normalized?\")\n",
    "n=int(input())\n",
    "print(\"insert the \", n, \" numbers\")\n",
    "for i in range(0,n):\n",
    "    a.append(int(input()))\n",
    "    sum=sum+a[i]\n",
    "\n",
    "for i in range(0,n):\n",
    "    a[i]=a[i]/sum\n",
    "\n",
    "\n",
    "    \n",
    "b=tuple([float(\"{0:.2f}\".format(i)) for i in a]) #I cut the decimal numbers after the second\n",
    "    \n",
    "print(b)"
   ]
  }
 ],
 "metadata": {
  "kernelspec": {
   "display_name": "Python 3",
   "language": "python",
   "name": "python3"
  },
  "language_info": {
   "codemirror_mode": {
    "name": "ipython",
    "version": 3
   },
   "file_extension": ".py",
   "mimetype": "text/x-python",
   "name": "python",
   "nbconvert_exporter": "python",
   "pygments_lexer": "ipython3",
   "version": "3.8.3"
  }
 },
 "nbformat": 4,
 "nbformat_minor": 2
}
